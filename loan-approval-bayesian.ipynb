{
 "metadata": {
  "kernelspec": {
   "language": "python",
   "display_name": "Python 3",
   "name": "python3"
  },
  "language_info": {
   "name": "python",
   "version": "3.10.14",
   "mimetype": "text/x-python",
   "codemirror_mode": {
    "name": "ipython",
    "version": 3
   },
   "pygments_lexer": "ipython3",
   "nbconvert_exporter": "python",
   "file_extension": ".py"
  }
 },
 "nbformat_minor": 4,
 "nbformat": 4,
 "cells": [
  {
   "cell_type": "code",
   "source": [
    "# This Python 3 environment comes with many helpful analytics libraries installed\n",
    "# It is defined by the kaggle/python Docker image: https://github.com/kaggle/docker-python\n",
    "# For example, here's several helpful packages to load\n",
    "\n",
    "import numpy as np # linear algebra\n",
    "import pandas as pd # data processing, CSV file I/O (e.g. pd.read_csv)\n",
    "\n",
    "# Input data files are available in the read-only \"../input/\" directory\n",
    "# For example, running this (by clicking run or pressing Shift+Enter) will list all files under the input directory\n",
    "\n",
    "import os\n",
    "for dirname, _, filenames in os.walk('/kaggle/input'):\n",
    "    for filename in filenames:\n",
    "        print(os.path.join(dirname, filename))\n",
    "\n",
    "# You can write up to 20GB to the current directory (/kaggle/working/) that gets preserved as output when you create a version using \"Save & Run All\" \n",
    "# You can also write temporary files to /kaggle/temp/, but they won't be saved outside of the current session"
   ],
   "metadata": {
    "_uuid": "8f2839f25d086af736a60e9eeb907d3b93b6e0e5",
    "_cell_guid": "b1076dfc-b9ad-4769-8c92-a6c4dae69d19",
    "execution": {
     "iopub.status.busy": "2024-10-13T16:25:53.133793Z",
     "iopub.execute_input": "2024-10-13T16:25:53.134365Z",
     "iopub.status.idle": "2024-10-13T16:25:53.645930Z",
     "shell.execute_reply.started": "2024-10-13T16:25:53.134301Z",
     "shell.execute_reply": "2024-10-13T16:25:53.644684Z"
    },
    "trusted": true
   },
   "execution_count": 4,
   "outputs": [
    {
     "name": "stdout",
     "text": "/kaggle/input/playground-series-s4e10/sample_submission.csv\n/kaggle/input/playground-series-s4e10/train.csv\n/kaggle/input/playground-series-s4e10/test.csv\n",
     "output_type": "stream"
    }
   ]
  },
  {
   "cell_type": "code",
   "source": [
    "!pip install --upgrade pymc"
   ],
   "metadata": {
    "execution": {
     "iopub.status.busy": "2024-10-13T16:25:38.268161Z",
     "iopub.execute_input": "2024-10-13T16:25:38.269442Z",
     "iopub.status.idle": "2024-10-13T16:25:53.130764Z",
     "shell.execute_reply.started": "2024-10-13T16:25:38.269363Z",
     "shell.execute_reply": "2024-10-13T16:25:53.129321Z"
    },
    "trusted": true
   },
   "execution_count": 3,
   "outputs": [
    {
     "name": "stdout",
     "text": "Requirement already satisfied: pymc in /opt/conda/lib/python3.10/site-packages (5.17.0)\nRequirement already satisfied: arviz>=0.13.0 in /opt/conda/lib/python3.10/site-packages (from pymc) (0.20.0)\nRequirement already satisfied: cachetools>=4.2.1 in /opt/conda/lib/python3.10/site-packages (from pymc) (4.2.4)\nRequirement already satisfied: cloudpickle in /opt/conda/lib/python3.10/site-packages (from pymc) (3.0.0)\nRequirement already satisfied: numpy>=1.15.0 in /opt/conda/lib/python3.10/site-packages (from pymc) (1.26.4)\nRequirement already satisfied: pandas>=0.24.0 in /opt/conda/lib/python3.10/site-packages (from pymc) (2.2.3)\nRequirement already satisfied: pytensor<2.26,>=2.25.1 in /opt/conda/lib/python3.10/site-packages (from pymc) (2.25.5)\nRequirement already satisfied: rich>=13.7.1 in /opt/conda/lib/python3.10/site-packages (from pymc) (13.7.1)\nRequirement already satisfied: scipy>=1.4.1 in /opt/conda/lib/python3.10/site-packages (from pymc) (1.14.1)\nRequirement already satisfied: threadpoolctl<4.0.0,>=3.1.0 in /opt/conda/lib/python3.10/site-packages (from pymc) (3.5.0)\nRequirement already satisfied: typing-extensions>=3.7.4 in /opt/conda/lib/python3.10/site-packages (from pymc) (4.12.2)\nRequirement already satisfied: setuptools>=60.0.0 in /opt/conda/lib/python3.10/site-packages (from arviz>=0.13.0->pymc) (70.0.0)\nRequirement already satisfied: matplotlib>=3.5 in /opt/conda/lib/python3.10/site-packages (from arviz>=0.13.0->pymc) (3.7.5)\nRequirement already satisfied: packaging in /opt/conda/lib/python3.10/site-packages (from arviz>=0.13.0->pymc) (24.1)\nRequirement already satisfied: xarray>=2022.6.0 in /opt/conda/lib/python3.10/site-packages (from arviz>=0.13.0->pymc) (2024.9.0)\nRequirement already satisfied: h5netcdf>=1.0.2 in /opt/conda/lib/python3.10/site-packages (from arviz>=0.13.0->pymc) (1.3.0)\nRequirement already satisfied: xarray-einstats>=0.3 in /opt/conda/lib/python3.10/site-packages (from arviz>=0.13.0->pymc) (0.8.0)\nRequirement already satisfied: python-dateutil>=2.8.2 in /opt/conda/lib/python3.10/site-packages (from pandas>=0.24.0->pymc) (2.9.0.post0)\nRequirement already satisfied: pytz>=2020.1 in /opt/conda/lib/python3.10/site-packages (from pandas>=0.24.0->pymc) (2024.1)\nRequirement already satisfied: tzdata>=2022.7 in /opt/conda/lib/python3.10/site-packages (from pandas>=0.24.0->pymc) (2024.1)\nRequirement already satisfied: filelock>=3.15 in /opt/conda/lib/python3.10/site-packages (from pytensor<2.26,>=2.25.1->pymc) (3.15.1)\nRequirement already satisfied: etuples in /opt/conda/lib/python3.10/site-packages (from pytensor<2.26,>=2.25.1->pymc) (0.3.9)\nRequirement already satisfied: logical-unification in /opt/conda/lib/python3.10/site-packages (from pytensor<2.26,>=2.25.1->pymc) (0.4.6)\nRequirement already satisfied: miniKanren in /opt/conda/lib/python3.10/site-packages (from pytensor<2.26,>=2.25.1->pymc) (1.0.3)\nRequirement already satisfied: cons in /opt/conda/lib/python3.10/site-packages (from pytensor<2.26,>=2.25.1->pymc) (0.4.6)\nRequirement already satisfied: markdown-it-py>=2.2.0 in /opt/conda/lib/python3.10/site-packages (from rich>=13.7.1->pymc) (3.0.0)\nRequirement already satisfied: pygments<3.0.0,>=2.13.0 in /opt/conda/lib/python3.10/site-packages (from rich>=13.7.1->pymc) (2.18.0)\nRequirement already satisfied: h5py in /opt/conda/lib/python3.10/site-packages (from h5netcdf>=1.0.2->arviz>=0.13.0->pymc) (3.11.0)\nRequirement already satisfied: mdurl~=0.1 in /opt/conda/lib/python3.10/site-packages (from markdown-it-py>=2.2.0->rich>=13.7.1->pymc) (0.1.2)\nRequirement already satisfied: contourpy>=1.0.1 in /opt/conda/lib/python3.10/site-packages (from matplotlib>=3.5->arviz>=0.13.0->pymc) (1.2.1)\nRequirement already satisfied: cycler>=0.10 in /opt/conda/lib/python3.10/site-packages (from matplotlib>=3.5->arviz>=0.13.0->pymc) (0.12.1)\nRequirement already satisfied: fonttools>=4.22.0 in /opt/conda/lib/python3.10/site-packages (from matplotlib>=3.5->arviz>=0.13.0->pymc) (4.53.0)\nRequirement already satisfied: kiwisolver>=1.0.1 in /opt/conda/lib/python3.10/site-packages (from matplotlib>=3.5->arviz>=0.13.0->pymc) (1.4.5)\nRequirement already satisfied: pillow>=6.2.0 in /opt/conda/lib/python3.10/site-packages (from matplotlib>=3.5->arviz>=0.13.0->pymc) (10.3.0)\nRequirement already satisfied: pyparsing>=2.3.1 in /opt/conda/lib/python3.10/site-packages (from matplotlib>=3.5->arviz>=0.13.0->pymc) (3.1.2)\nRequirement already satisfied: six>=1.5 in /opt/conda/lib/python3.10/site-packages (from python-dateutil>=2.8.2->pandas>=0.24.0->pymc) (1.16.0)\nRequirement already satisfied: toolz in /opt/conda/lib/python3.10/site-packages (from logical-unification->pytensor<2.26,>=2.25.1->pymc) (0.12.1)\nRequirement already satisfied: multipledispatch in /opt/conda/lib/python3.10/site-packages (from logical-unification->pytensor<2.26,>=2.25.1->pymc) (1.0.0)\n",
     "output_type": "stream"
    }
   ]
  },
  {
   "cell_type": "code",
   "source": [
    "import pandas as pd\n",
    "import numpy as np\n",
    "import pymc as pm\n",
    "import arviz as az\n",
    "\n",
    "# Assuming the dataframe is already loaded as 'df'\n",
    "df=pd.read_csv('/kaggle/input/playground-series-s4e10/train.csv')\n",
    "\n",
    "\n",
    "# Step 1: Preprocess the data\n",
    "# Convert categorical variables to numerical\n",
    "df['person_home_ownership'] = pd.Categorical(df['person_home_ownership']).codes\n",
    "df['loan_intent'] = pd.Categorical(df['loan_intent']).codes\n",
    "df['loan_grade'] = pd.Categorical(df['loan_grade']).codes\n",
    "df['cb_person_default_on_file'] = pd.Categorical(df['cb_person_default_on_file']).codes\n",
    "\n",
    "# Normalize numerical variables\n",
    "numerical_cols = ['person_age', 'person_income', 'person_emp_length', 'loan_amnt', 'loan_int_rate', 'loan_percent_income', 'cb_person_cred_hist_length']\n",
    "for col in numerical_cols:\n",
    "    df[col] = (df[col] - df[col].mean()) / df[col].std()\n",
    "\n",
    "# Prepare X (features) and y (target)\n",
    "X = df[['person_age', 'person_income', 'person_home_ownership', 'person_emp_length', \n",
    "        'loan_intent', 'loan_grade', 'loan_amnt', 'loan_int_rate', 'loan_percent_income', \n",
    "        'cb_person_default_on_file', 'cb_person_cred_hist_length']]\n",
    "y = df['loan_status']"
   ],
   "metadata": {
    "execution": {
     "iopub.status.busy": "2024-10-13T16:26:53.574101Z",
     "iopub.execute_input": "2024-10-13T16:26:53.574821Z",
     "iopub.status.idle": "2024-10-13T16:27:00.055949Z",
     "shell.execute_reply.started": "2024-10-13T16:26:53.574767Z",
     "shell.execute_reply": "2024-10-13T16:27:00.054783Z"
    },
    "trusted": true
   },
   "execution_count": 5,
   "outputs": []
  },
  {
   "cell_type": "code",
   "source": [
    "X.head()"
   ],
   "metadata": {
    "execution": {
     "iopub.status.busy": "2024-10-13T16:27:26.207612Z",
     "iopub.execute_input": "2024-10-13T16:27:26.208615Z",
     "iopub.status.idle": "2024-10-13T16:27:26.233824Z",
     "shell.execute_reply.started": "2024-10-13T16:27:26.208561Z",
     "shell.execute_reply": "2024-10-13T16:27:26.232534Z"
    },
    "trusted": true
   },
   "execution_count": 7,
   "outputs": [
    {
     "execution_count": 7,
     "output_type": "execute_result",
     "data": {
      "text/plain": "   person_age  person_income  person_home_ownership  person_emp_length  \\\n0    1.566187      -0.765761                      3          -1.187190   \n1   -0.920049      -0.212126                      2           0.328044   \n2    0.240194      -0.929216                      2           0.833122   \n3    0.405943       0.156964                      3           2.348357   \n4   -0.920049      -0.106672                      3          -0.682112   \n\n   loan_intent  loan_grade  loan_amnt  loan_int_rate  loan_percent_income  \\\n0            1           1  -0.578301       0.267613             0.117377   \n1            3           2  -0.937767       0.880525            -0.973233   \n2            4           0  -0.578301      -0.585849             0.553621   \n3            5           1   0.500097       0.142395             0.117377   \n4            3           0  -0.578301      -1.238303            -0.646050   \n\n   cb_person_default_on_file  cb_person_cred_hist_length  \n0                          0                    2.031781  \n1                          0                   -0.946481  \n2                          0                    1.039027  \n3                          0                   -0.201915  \n4                          0                   -0.698292  ",
      "text/html": "<div>\n<style scoped>\n    .dataframe tbody tr th:only-of-type {\n        vertical-align: middle;\n    }\n\n    .dataframe tbody tr th {\n        vertical-align: top;\n    }\n\n    .dataframe thead th {\n        text-align: right;\n    }\n</style>\n<table border=\"1\" class=\"dataframe\">\n  <thead>\n    <tr style=\"text-align: right;\">\n      <th></th>\n      <th>person_age</th>\n      <th>person_income</th>\n      <th>person_home_ownership</th>\n      <th>person_emp_length</th>\n      <th>loan_intent</th>\n      <th>loan_grade</th>\n      <th>loan_amnt</th>\n      <th>loan_int_rate</th>\n      <th>loan_percent_income</th>\n      <th>cb_person_default_on_file</th>\n      <th>cb_person_cred_hist_length</th>\n    </tr>\n  </thead>\n  <tbody>\n    <tr>\n      <th>0</th>\n      <td>1.566187</td>\n      <td>-0.765761</td>\n      <td>3</td>\n      <td>-1.187190</td>\n      <td>1</td>\n      <td>1</td>\n      <td>-0.578301</td>\n      <td>0.267613</td>\n      <td>0.117377</td>\n      <td>0</td>\n      <td>2.031781</td>\n    </tr>\n    <tr>\n      <th>1</th>\n      <td>-0.920049</td>\n      <td>-0.212126</td>\n      <td>2</td>\n      <td>0.328044</td>\n      <td>3</td>\n      <td>2</td>\n      <td>-0.937767</td>\n      <td>0.880525</td>\n      <td>-0.973233</td>\n      <td>0</td>\n      <td>-0.946481</td>\n    </tr>\n    <tr>\n      <th>2</th>\n      <td>0.240194</td>\n      <td>-0.929216</td>\n      <td>2</td>\n      <td>0.833122</td>\n      <td>4</td>\n      <td>0</td>\n      <td>-0.578301</td>\n      <td>-0.585849</td>\n      <td>0.553621</td>\n      <td>0</td>\n      <td>1.039027</td>\n    </tr>\n    <tr>\n      <th>3</th>\n      <td>0.405943</td>\n      <td>0.156964</td>\n      <td>3</td>\n      <td>2.348357</td>\n      <td>5</td>\n      <td>1</td>\n      <td>0.500097</td>\n      <td>0.142395</td>\n      <td>0.117377</td>\n      <td>0</td>\n      <td>-0.201915</td>\n    </tr>\n    <tr>\n      <th>4</th>\n      <td>-0.920049</td>\n      <td>-0.106672</td>\n      <td>3</td>\n      <td>-0.682112</td>\n      <td>3</td>\n      <td>0</td>\n      <td>-0.578301</td>\n      <td>-1.238303</td>\n      <td>-0.646050</td>\n      <td>0</td>\n      <td>-0.698292</td>\n    </tr>\n  </tbody>\n</table>\n</div>"
     },
     "metadata": {}
    }
   ]
  },
  {
   "cell_type": "code",
   "source": [
    "# Step 2: Define the Bayesian model\n",
    "with pm.Model() as loan_model:\n",
    "    # Priors for unknown model parameters\n",
    "    intercept = pm.Normal('intercept', mu=0, sigma=10)\n",
    "    betas = pm.Normal('betas', mu=0, sigma=10, shape=X.shape[1])\n",
    "    \n",
    "    # Expected value of outcome\n",
    "    mu = intercept + pm.math.dot(X, betas)\n",
    "    \n",
    "    # Likelihood (sampling distribution) of observations\n",
    "    y_obs = pm.Bernoulli('y_obs', logit_p=mu, observed=y)\n",
    "\n",
    "# Step 3: Prior Predictive Analysis\n",
    "with loan_model:\n",
    "    prior_predictive = pm.sample_prior_predictive(samples=1000)"
   ],
   "metadata": {
    "execution": {
     "iopub.status.busy": "2024-10-13T16:27:49.981981Z",
     "iopub.execute_input": "2024-10-13T16:27:49.982485Z",
     "iopub.status.idle": "2024-10-13T16:28:04.365851Z",
     "shell.execute_reply.started": "2024-10-13T16:27:49.982436Z",
     "shell.execute_reply": "2024-10-13T16:28:04.364595Z"
    },
    "trusted": true
   },
   "execution_count": 8,
   "outputs": []
  },
  {
   "cell_type": "code",
   "source": [
    "# Step 3: Inference\n",
    "with loan_model:\n",
    "    # Draw posterior samples\n",
    "    trace = pm.sample(2000, tune=1000, return_inferencedata=True)\n",
    "\n",
    "# Step 4: Analyze the results\n",
    "summary = az.summary(trace, var_names=['intercept', 'betas'])\n",
    "print(summary)"
   ],
   "metadata": {
    "execution": {
     "iopub.status.busy": "2024-10-13T16:30:05.229645Z",
     "iopub.execute_input": "2024-10-13T16:30:05.230182Z",
     "iopub.status.idle": "2024-10-13T16:40:12.636802Z",
     "shell.execute_reply.started": "2024-10-13T16:30:05.230134Z",
     "shell.execute_reply": "2024-10-13T16:40:12.635600Z"
    },
    "trusted": true
   },
   "execution_count": 9,
   "outputs": [
    {
     "output_type": "display_data",
     "data": {
      "text/plain": "Output()",
      "application/vnd.jupyter.widget-view+json": {
       "version_major": 2,
       "version_minor": 0,
       "model_id": "0cffc0cda0be46e387294411fe0ab3a1"
      }
     },
     "metadata": {}
    },
    {
     "output_type": "display_data",
     "data": {
      "text/plain": "",
      "text/html": "<pre style=\"white-space:pre;overflow-x:auto;line-height:normal;font-family:Menlo,'DejaVu Sans Mono',consolas,'Courier New',monospace\"></pre>\n"
     },
     "metadata": {}
    },
    {
     "output_type": "display_data",
     "data": {
      "text/plain": "\n",
      "text/html": "<pre style=\"white-space:pre;overflow-x:auto;line-height:normal;font-family:Menlo,'DejaVu Sans Mono',consolas,'Courier New',monospace\">\n</pre>\n"
     },
     "metadata": {}
    },
    {
     "output_type": "display_data",
     "data": {
      "text/plain": "Output()",
      "application/vnd.jupyter.widget-view+json": {
       "version_major": 2,
       "version_minor": 0,
       "model_id": "1c5461fa638945b5b3d364c85b5e252f"
      }
     },
     "metadata": {}
    },
    {
     "name": "stdout",
     "text": "            mean     sd  hdi_3%  hdi_97%  mcse_mean  mcse_sd  ess_bulk  \\\nintercept -2.250  2.036  -4.356   -0.215      1.437    1.216       3.0   \nbetas[0]  -0.208  0.310  -0.518    0.135      0.219    0.185       3.0   \nbetas[1]   0.275  0.546  -0.331    0.821      0.385    0.326       3.0   \nbetas[2]  -0.182  0.526  -0.709    0.358      0.371    0.315       3.0   \nbetas[3]   0.040  0.118  -0.096    0.157      0.083    0.070       3.0   \nbetas[4]  -0.297  0.167  -0.464   -0.119      0.118    0.100       3.0   \nbetas[5]   0.949  0.252   0.698    1.244      0.177    0.149       3.0   \nbetas[6]  -0.446  0.200  -0.644   -0.204      0.140    0.119       3.0   \nbetas[7]   0.418  0.560  -0.193    0.978      0.395    0.335       3.0   \nbetas[8]   0.856  0.268   0.589    1.162      0.189    0.159       3.0   \nbetas[9]   0.329  0.493  -0.206    0.821      0.347    0.294       3.0   \nbetas[10] -0.048  0.021  -0.087    0.002      0.003    0.002     189.0   \n\n           ess_tail  r_hat  \nintercept      57.0   2.23  \nbetas[0]        2.0   2.24  \nbetas[1]       86.0   2.23  \nbetas[2]        2.0   2.23  \nbetas[3]      124.0   2.23  \nbetas[4]        2.0   2.23  \nbetas[5]        2.0   2.23  \nbetas[6]        2.0   2.23  \nbetas[7]       81.0   2.23  \nbetas[8]        2.0   2.23  \nbetas[9]       52.0   2.23  \nbetas[10]      61.0   2.24  \n",
     "output_type": "stream"
    },
    {
     "output_type": "display_data",
     "data": {
      "text/plain": "",
      "text/html": "<pre style=\"white-space:pre;overflow-x:auto;line-height:normal;font-family:Menlo,'DejaVu Sans Mono',consolas,'Courier New',monospace\"></pre>\n"
     },
     "metadata": {}
    },
    {
     "output_type": "display_data",
     "data": {
      "text/plain": "\n",
      "text/html": "<pre style=\"white-space:pre;overflow-x:auto;line-height:normal;font-family:Menlo,'DejaVu Sans Mono',consolas,'Courier New',monospace\">\n</pre>\n"
     },
     "metadata": {}
    },
    {
     "name": "stdout",
     "text": "Model accuracy: 0.87\n",
     "output_type": "stream"
    }
   ]
  },
  {
   "cell_type": "code",
   "source": [
    "# Step 5: Make predictions\n",
    "with loan_model:\n",
    "    post_pred = pm.sample_posterior_predictive(trace, var_names=['y_obs'])\n",
    "\n",
    "# Calculate the mean predicted probability for each observation\n",
    "y_pred = post_pred.posterior_predictive['y_obs'].mean(axis=(0, 1))\n",
    "\n",
    "# You can use a threshold (e.g., 0.5) to classify loans as approved or not\n",
    "y_pred_class = (y_pred > 0.5).astype(int)\n",
    "\n",
    "# Calculate accuracy\n",
    "accuracy = (y_pred_class == y).mean()\n",
    "print(f\"Model accuracy: {accuracy:.2f}\")"
   ],
   "metadata": {
    "execution": {
     "iopub.status.busy": "2024-10-13T17:15:37.439491Z",
     "iopub.execute_input": "2024-10-13T17:15:37.440443Z",
     "iopub.status.idle": "2024-10-13T17:16:02.550938Z",
     "shell.execute_reply.started": "2024-10-13T17:15:37.440380Z",
     "shell.execute_reply": "2024-10-13T17:16:02.549912Z"
    },
    "trusted": true
   },
   "execution_count": 10,
   "outputs": [
    {
     "output_type": "display_data",
     "data": {
      "text/plain": "Output()",
      "application/vnd.jupyter.widget-view+json": {
       "version_major": 2,
       "version_minor": 0,
       "model_id": "dd6e7b6a5e2744ba895361b90b719f4e"
      }
     },
     "metadata": {}
    },
    {
     "output_type": "display_data",
     "data": {
      "text/plain": "",
      "text/html": "<pre style=\"white-space:pre;overflow-x:auto;line-height:normal;font-family:Menlo,'DejaVu Sans Mono',consolas,'Courier New',monospace\"></pre>\n"
     },
     "metadata": {}
    },
    {
     "output_type": "display_data",
     "data": {
      "text/plain": "\n",
      "text/html": "<pre style=\"white-space:pre;overflow-x:auto;line-height:normal;font-family:Menlo,'DejaVu Sans Mono',consolas,'Courier New',monospace\">\n</pre>\n"
     },
     "metadata": {}
    },
    {
     "name": "stdout",
     "text": "Model accuracy: 0.87\n",
     "output_type": "stream"
    }
   ]
  },
  {
   "cell_type": "code",
   "source": [
    "# Step 6: Posterior Predictive Analysis\n",
    "with loan_model:\n",
    "    posterior_predictive = pm.sample_posterior_predictive(trace, var_names=['y_obs'])"
   ],
   "metadata": {
    "execution": {
     "iopub.status.busy": "2024-10-13T17:16:09.257703Z",
     "iopub.execute_input": "2024-10-13T17:16:09.258414Z",
     "iopub.status.idle": "2024-10-13T17:16:32.400956Z",
     "shell.execute_reply.started": "2024-10-13T17:16:09.258371Z",
     "shell.execute_reply": "2024-10-13T17:16:32.400143Z"
    },
    "trusted": true
   },
   "execution_count": 11,
   "outputs": [
    {
     "output_type": "display_data",
     "data": {
      "text/plain": "Output()",
      "application/vnd.jupyter.widget-view+json": {
       "version_major": 2,
       "version_minor": 0,
       "model_id": "8b4fb69dd3ad4ef8a582764428cd83fe"
      }
     },
     "metadata": {}
    },
    {
     "output_type": "display_data",
     "data": {
      "text/plain": "",
      "text/html": "<pre style=\"white-space:pre;overflow-x:auto;line-height:normal;font-family:Menlo,'DejaVu Sans Mono',consolas,'Courier New',monospace\"></pre>\n"
     },
     "metadata": {}
    },
    {
     "output_type": "display_data",
     "data": {
      "text/plain": "\n",
      "text/html": "<pre style=\"white-space:pre;overflow-x:auto;line-height:normal;font-family:Menlo,'DejaVu Sans Mono',consolas,'Courier New',monospace\">\n</pre>\n"
     },
     "metadata": {}
    }
   ]
  },
  {
   "cell_type": "code",
   "source": [
    "import matplotlib.pyplot as plt\n",
    "\n",
    "\n",
    "# Visualize posterior predictive distribution\n",
    "plt.figure(figsize=(10, 6))\n",
    "plt.hist(posterior_predictive.posterior_predictive['y_obs'].mean(axis=(0, 1)), bins=30, edgecolor='black')\n",
    "plt.title('Posterior Predictive Distribution')\n",
    "plt.xlabel('Probability of Loan Approval')\n",
    "plt.ylabel('Frequency')\n",
    "plt.show()\n",
    "\n",
    "# Compare observed data with posterior predictive\n",
    "y_pred = posterior_predictive.posterior_predictive['y_obs'].mean(axis=(0, 1))\n",
    "y_pred_class = (y_pred > 0.5).astype(int)\n",
    "\n",
    "plt.figure(figsize=(10, 6))\n",
    "plt.hist(y, bins=2, alpha=0.5, label='Observed')\n",
    "plt.hist(y_pred_class, bins=2, alpha=0.5, label='Predicted')\n",
    "plt.title('Observed vs Predicted Loan Approvals')\n",
    "plt.xlabel('Loan Status (0: Not Approved, 1: Approved)')\n",
    "plt.ylabel('Frequency')\n",
    "plt.legend()\n",
    "plt.show()\n",
    "\n",
    "# Calculate and print accuracy\n",
    "accuracy = (y_pred_class == y).mean()\n",
    "print(f\"Model accuracy: {accuracy:.2f}\")"
   ],
   "metadata": {
    "execution": {
     "iopub.status.busy": "2024-10-13T17:19:18.212468Z",
     "iopub.execute_input": "2024-10-13T17:19:18.213375Z",
     "iopub.status.idle": "2024-10-13T17:19:19.517544Z",
     "shell.execute_reply.started": "2024-10-13T17:19:18.213332Z",
     "shell.execute_reply": "2024-10-13T17:19:19.516801Z"
    },
    "trusted": true
   },
   "execution_count": 12,
   "outputs": [
    {
     "output_type": "display_data",
     "data": {
      "text/plain": "<Figure size 1000x600 with 1 Axes>",
      "image/png": "[encoded data removed]"
     },
     "metadata": {}
    },
    {
     "output_type": "display_data",
     "data": {
      "text/plain": "<Figure size 1000x600 with 1 Axes>",
      "image/png": "[encoded data removed]"
     },
     "metadata": {}
    },
    {
     "name": "stdout",
     "text": "Model accuracy: 0.87\n",
     "output_type": "stream"
    }
   ]
  },
  {
   "cell_type": "code",
   "source": [
    "df_test.head()"
   ],
   "metadata": {
    "execution": {
     "iopub.status.busy": "2024-10-13T17:19:43.369993Z",
     "iopub.execute_input": "2024-10-13T17:19:43.370385Z",
     "iopub.status.idle": "2024-10-13T17:19:43.385680Z",
     "shell.execute_reply.started": "2024-10-13T17:19:43.370345Z",
     "shell.execute_reply": "2024-10-13T17:19:43.384775Z"
    },
    "trusted": true
   },
   "execution_count": 14,
   "outputs": [
    {
     "execution_count": 14,
     "output_type": "execute_result",
     "data": {
      "text/plain": "      id  person_age  person_income  person_home_ownership  person_emp_length  \\\n0  58645   -0.756997       0.130139                      3          -0.436116   \n1  58646   -0.259712       0.841492                      0           0.339400   \n2  58647   -0.259712      -0.897371                      3           0.080894   \n3  58648    0.900619      -0.370443                      3          -0.177611   \n4  58649   -0.259712       0.999571                      0           0.856410   \n\n   loan_intent  loan_grade  loan_amnt  loan_int_rate  loan_percent_income  \\\n0            2           5   2.824214       1.688216             2.187267   \n1            4           2   0.134236       0.668423            -0.650126   \n2            5           4  -0.941755       2.161692            -0.322735   \n3            0           0  -0.403760      -0.583142            -0.213604   \n4            2           3   1.030895       1.873633            -0.104474   \n\n   cb_person_default_on_file  cb_person_cred_hist_length  \n0                          0                   -0.940707  \n1                          1                   -0.449567  \n2                          1                   -0.940707  \n3                          0                    0.287143  \n4                          1                   -0.449567  ",
      "text/html": "<div>\n<style scoped>\n    .dataframe tbody tr th:only-of-type {\n        vertical-align: middle;\n    }\n\n    .dataframe tbody tr th {\n        vertical-align: top;\n    }\n\n    .dataframe thead th {\n        text-align: right;\n    }\n</style>\n<table border=\"1\" class=\"dataframe\">\n  <thead>\n    <tr style=\"text-align: right;\">\n      <th></th>\n      <th>id</th>\n      <th>person_age</th>\n      <th>person_income</th>\n      <th>person_home_ownership</th>\n      <th>person_emp_length</th>\n      <th>loan_intent</th>\n      <th>loan_grade</th>\n      <th>loan_amnt</th>\n      <th>loan_int_rate</th>\n      <th>loan_percent_income</th>\n      <th>cb_person_default_on_file</th>\n      <th>cb_person_cred_hist_length</th>\n    </tr>\n  </thead>\n  <tbody>\n    <tr>\n      <th>0</th>\n      <td>58645</td>\n      <td>-0.756997</td>\n      <td>0.130139</td>\n      <td>3</td>\n      <td>-0.436116</td>\n      <td>2</td>\n      <td>5</td>\n      <td>2.824214</td>\n      <td>1.688216</td>\n      <td>2.187267</td>\n      <td>0</td>\n      <td>-0.940707</td>\n    </tr>\n    <tr>\n      <th>1</th>\n      <td>58646</td>\n      <td>-0.259712</td>\n      <td>0.841492</td>\n      <td>0</td>\n      <td>0.339400</td>\n      <td>4</td>\n      <td>2</td>\n      <td>0.134236</td>\n      <td>0.668423</td>\n      <td>-0.650126</td>\n      <td>1</td>\n      <td>-0.449567</td>\n    </tr>\n    <tr>\n      <th>2</th>\n      <td>58647</td>\n      <td>-0.259712</td>\n      <td>-0.897371</td>\n      <td>3</td>\n      <td>0.080894</td>\n      <td>5</td>\n      <td>4</td>\n      <td>-0.941755</td>\n      <td>2.161692</td>\n      <td>-0.322735</td>\n      <td>1</td>\n      <td>-0.940707</td>\n    </tr>\n    <tr>\n      <th>3</th>\n      <td>58648</td>\n      <td>0.900619</td>\n      <td>-0.370443</td>\n      <td>3</td>\n      <td>-0.177611</td>\n      <td>0</td>\n      <td>0</td>\n      <td>-0.403760</td>\n      <td>-0.583142</td>\n      <td>-0.213604</td>\n      <td>0</td>\n      <td>0.287143</td>\n    </tr>\n    <tr>\n      <th>4</th>\n      <td>58649</td>\n      <td>-0.259712</td>\n      <td>0.999571</td>\n      <td>0</td>\n      <td>0.856410</td>\n      <td>2</td>\n      <td>3</td>\n      <td>1.030895</td>\n      <td>1.873633</td>\n      <td>-0.104474</td>\n      <td>1</td>\n      <td>-0.449567</td>\n    </tr>\n  </tbody>\n</table>\n</div>"
     },
     "metadata": {}
    }
   ]
  },
  {
   "cell_type": "code",
   "source": [
    "# Load the training data\n",
    "# df_train = pd.read_csv('/kaggle/input/playground-series-s4e10/train.csv')  # Assuming your training data is in 'train.csv'\n",
    "\n",
    "# Load the test data\n",
    "df_test = pd.read_csv('/kaggle/input/playground-series-s4e10/test.csv')\n",
    "\n",
    "# Function to preprocess data\n",
    "def preprocess_data(df):\n",
    "    df['person_home_ownership'] = pd.Categorical(df['person_home_ownership']).codes\n",
    "    df['loan_intent'] = pd.Categorical(df['loan_intent']).codes\n",
    "    df['loan_grade'] = pd.Categorical(df['loan_grade']).codes\n",
    "    df['cb_person_default_on_file'] = pd.Categorical(df['cb_person_default_on_file']).codes\n",
    "\n",
    "    numerical_cols = ['person_age', 'person_income', 'person_emp_length', 'loan_amnt', 'loan_int_rate', 'loan_percent_income', 'cb_person_cred_hist_length']\n",
    "    for col in numerical_cols:\n",
    "        df[col] = (df[col] - df[col].mean()) / df[col].std()\n",
    "    \n",
    "    return df\n",
    "\n",
    "# Preprocess training and test data\n",
    "# df_train = preprocess_data(df_train)\n",
    "df_test = preprocess_data(df_test)\n",
    "\n",
    "# Prepare X (features) and y (target) for training data\n",
    "# X_train = df_train[['person_age', 'person_income', 'person_home_ownership', 'person_emp_length', \n",
    "#                     'loan_intent', 'loan_grade', 'loan_amnt', 'loan_int_rate', 'loan_percent_income', \n",
    "#                     'cb_person_default_on_file', 'cb_person_cred_hist_length']]\n",
    "# y_train = df_train['loan_status']\n",
    "\n",
    "# Prepare X for test data\n",
    "X_test = df_test[['person_age', 'person_income', 'person_home_ownership', 'person_emp_length', \n",
    "                  'loan_intent', 'loan_grade', 'loan_amnt', 'loan_int_rate', 'loan_percent_income', \n",
    "                  'cb_person_default_on_file', 'cb_person_cred_hist_length']]\n",
    "\n",
    "# Step 2: Create a new model context for prediction\n",
    "with loan_model:\n",
    "    # Create a new set of observations with the same priors\n",
    "    mu = intercept + pm.math.dot(df_test, betas)\n",
    "    y_pred = pm.Bernoulli('y_pred', logit_p=mu, shape=X_test.shape[0])\n",
    "\n",
    "    # Generate predictions\n",
    "    posterior_predictive = pm.sample_posterior_predictive(\n",
    "        trace, \n",
    "        var_names=['y_pred'], \n",
    "        predictions=True,\n",
    "        random_seed=42\n",
    "    )\n",
    "\n",
    "# Step 3: Process the predictions\n",
    "y_pred_samples = posterior_predictive.posterior_predictive['y_pred']\n",
    "y_pred_mean = y_pred_samples.mean(dim=('chain', 'draw')).values\n",
    "\n",
    "# If you want to classify based on a threshold (e.g., 0.5)\n",
    "y_pred_class = (y_pred_mean > 0.5).astype(int)\n",
    "\n",
    "# Calculate the mean predicted probability for each observation\n",
    "y_pred = post_pred.posterior_predictive['y_obs'].mean(axis=(0, 1))\n",
    "\n",
    "# You can use a threshold (e.g., 0.5) to classify loans as approved or not\n",
    "y_pred_class = (y_pred > 0.5).astype(int)\n",
    "\n",
    "# Calculate the mean predicted probability for each observation in test data\n",
    "y_pred_proba = post_pred.posterior_predictive['y_obs'].mean(axis=(0, 1))\n",
    "\n",
    "# Create submission dataframe\n",
    "submission = pd.DataFrame({\n",
    "    'id': df_test['id'],\n",
    "    'loan_status': y_pred_proba\n",
    "})\n",
    "\n",
    "# Save submission file\n",
    "submission.to_csv('submission.csv', index=False)\n",
    "\n",
    "print(\"Submission file 'submission.csv' has been created.\")"
   ],
   "metadata": {
    "execution": {
     "iopub.status.busy": "2024-10-13T17:49:34.151257Z",
     "iopub.execute_input": "2024-10-13T17:49:34.152699Z",
     "iopub.status.idle": "2024-10-13T17:49:34.354355Z",
     "shell.execute_reply.started": "2024-10-13T17:49:34.152656Z",
     "shell.execute_reply": "2024-10-13T17:49:34.352788Z"
    },
    "trusted": true
   },
   "execution_count": 19,
   "outputs": [
    {
     "traceback": [
      "\u001B[0;31m---------------------------------------------------------------------------\u001B[0m",
      "\u001B[0;31mValueError\u001B[0m                                Traceback (most recent call last)",
      "Cell \u001B[0;32mIn[19], line 39\u001B[0m\n\u001B[1;32m     36\u001B[0m \u001B[38;5;28;01mwith\u001B[39;00m loan_model:\n\u001B[1;32m     37\u001B[0m     \u001B[38;5;66;03m# Create a new set of observations with the same priors\u001B[39;00m\n\u001B[1;32m     38\u001B[0m     mu \u001B[38;5;241m=\u001B[39m intercept \u001B[38;5;241m+\u001B[39m pm\u001B[38;5;241m.\u001B[39mmath\u001B[38;5;241m.\u001B[39mdot(df_test, betas)\n\u001B[0;32m---> 39\u001B[0m     y_pred \u001B[38;5;241m=\u001B[39m \u001B[43mpm\u001B[49m\u001B[38;5;241;43m.\u001B[39;49m\u001B[43mBernoulli\u001B[49m\u001B[43m(\u001B[49m\u001B[38;5;124;43m'\u001B[39;49m\u001B[38;5;124;43my_pred\u001B[39;49m\u001B[38;5;124;43m'\u001B[39;49m\u001B[43m,\u001B[49m\u001B[43m \u001B[49m\u001B[43mlogit_p\u001B[49m\u001B[38;5;241;43m=\u001B[39;49m\u001B[43mmu\u001B[49m\u001B[43m,\u001B[49m\u001B[43m \u001B[49m\u001B[43mshape\u001B[49m\u001B[38;5;241;43m=\u001B[39;49m\u001B[43mX_test\u001B[49m\u001B[38;5;241;43m.\u001B[39;49m\u001B[43mshape\u001B[49m\u001B[43m[\u001B[49m\u001B[38;5;241;43m0\u001B[39;49m\u001B[43m]\u001B[49m\u001B[43m)\u001B[49m\n\u001B[1;32m     41\u001B[0m     \u001B[38;5;66;03m# Generate predictions\u001B[39;00m\n\u001B[1;32m     42\u001B[0m     posterior_predictive \u001B[38;5;241m=\u001B[39m pm\u001B[38;5;241m.\u001B[39msample_posterior_predictive(\n\u001B[1;32m     43\u001B[0m         trace, \n\u001B[1;32m     44\u001B[0m         var_names\u001B[38;5;241m=\u001B[39m[\u001B[38;5;124m'\u001B[39m\u001B[38;5;124my_pred\u001B[39m\u001B[38;5;124m'\u001B[39m], \n\u001B[1;32m     45\u001B[0m         predictions\u001B[38;5;241m=\u001B[39m\u001B[38;5;28;01mTrue\u001B[39;00m,\n\u001B[1;32m     46\u001B[0m         random_seed\u001B[38;5;241m=\u001B[39m\u001B[38;5;241m42\u001B[39m\n\u001B[1;32m     47\u001B[0m     )\n",
      "File \u001B[0;32m/opt/conda/lib/python3.10/site-packages/pymc/distributions/distribution.py:641\u001B[0m, in \u001B[0;36mDiscrete.__new__\u001B[0;34m(cls, name, *args, **kwargs)\u001B[0m\n\u001B[1;32m    638\u001B[0m \u001B[38;5;28;01mif\u001B[39;00m kwargs\u001B[38;5;241m.\u001B[39mget(\u001B[38;5;124m\"\u001B[39m\u001B[38;5;124mtransform\u001B[39m\u001B[38;5;124m\"\u001B[39m, \u001B[38;5;28;01mNone\u001B[39;00m):\n\u001B[1;32m    639\u001B[0m     \u001B[38;5;28;01mraise\u001B[39;00m \u001B[38;5;167;01mValueError\u001B[39;00m(\u001B[38;5;124m\"\u001B[39m\u001B[38;5;124mTransformations for discrete distributions\u001B[39m\u001B[38;5;124m\"\u001B[39m)\n\u001B[0;32m--> 641\u001B[0m \u001B[38;5;28;01mreturn\u001B[39;00m \u001B[38;5;28;43msuper\u001B[39;49m\u001B[43m(\u001B[49m\u001B[43m)\u001B[49m\u001B[38;5;241;43m.\u001B[39;49m\u001B[38;5;21;43m__new__\u001B[39;49m\u001B[43m(\u001B[49m\u001B[38;5;28;43mcls\u001B[39;49m\u001B[43m,\u001B[49m\u001B[43m \u001B[49m\u001B[43mname\u001B[49m\u001B[43m,\u001B[49m\u001B[43m \u001B[49m\u001B[38;5;241;43m*\u001B[39;49m\u001B[43margs\u001B[49m\u001B[43m,\u001B[49m\u001B[43m \u001B[49m\u001B[38;5;241;43m*\u001B[39;49m\u001B[38;5;241;43m*\u001B[39;49m\u001B[43mkwargs\u001B[49m\u001B[43m)\u001B[49m\n",
      "File \u001B[0;32m/opt/conda/lib/python3.10/site-packages/pymc/distributions/distribution.py:510\u001B[0m, in \u001B[0;36mDistribution.__new__\u001B[0;34m(cls, name, rng, dims, initval, observed, total_size, transform, default_transform, *args, **kwargs)\u001B[0m\n\u001B[1;32m    506\u001B[0m         kwargs[\u001B[38;5;124m\"\u001B[39m\u001B[38;5;124mshape\u001B[39m\u001B[38;5;124m\"\u001B[39m] \u001B[38;5;241m=\u001B[39m \u001B[38;5;28mtuple\u001B[39m(observed\u001B[38;5;241m.\u001B[39mshape)\n\u001B[1;32m    508\u001B[0m rv_out \u001B[38;5;241m=\u001B[39m \u001B[38;5;28mcls\u001B[39m\u001B[38;5;241m.\u001B[39mdist(\u001B[38;5;241m*\u001B[39margs, \u001B[38;5;241m*\u001B[39m\u001B[38;5;241m*\u001B[39mkwargs)\n\u001B[0;32m--> 510\u001B[0m rv_out \u001B[38;5;241m=\u001B[39m \u001B[43mmodel\u001B[49m\u001B[38;5;241;43m.\u001B[39;49m\u001B[43mregister_rv\u001B[49m\u001B[43m(\u001B[49m\n\u001B[1;32m    511\u001B[0m \u001B[43m    \u001B[49m\u001B[43mrv_out\u001B[49m\u001B[43m,\u001B[49m\n\u001B[1;32m    512\u001B[0m \u001B[43m    \u001B[49m\u001B[43mname\u001B[49m\u001B[43m,\u001B[49m\n\u001B[1;32m    513\u001B[0m \u001B[43m    \u001B[49m\u001B[43mobserved\u001B[49m\u001B[38;5;241;43m=\u001B[39;49m\u001B[43mobserved\u001B[49m\u001B[43m,\u001B[49m\n\u001B[1;32m    514\u001B[0m \u001B[43m    \u001B[49m\u001B[43mtotal_size\u001B[49m\u001B[38;5;241;43m=\u001B[39;49m\u001B[43mtotal_size\u001B[49m\u001B[43m,\u001B[49m\n\u001B[1;32m    515\u001B[0m \u001B[43m    \u001B[49m\u001B[43mdims\u001B[49m\u001B[38;5;241;43m=\u001B[39;49m\u001B[43mdims\u001B[49m\u001B[43m,\u001B[49m\n\u001B[1;32m    516\u001B[0m \u001B[43m    \u001B[49m\u001B[43mtransform\u001B[49m\u001B[38;5;241;43m=\u001B[39;49m\u001B[43mtransform\u001B[49m\u001B[43m,\u001B[49m\n\u001B[1;32m    517\u001B[0m \u001B[43m    \u001B[49m\u001B[43mdefault_transform\u001B[49m\u001B[38;5;241;43m=\u001B[39;49m\u001B[43mdefault_transform\u001B[49m\u001B[43m,\u001B[49m\n\u001B[1;32m    518\u001B[0m \u001B[43m    \u001B[49m\u001B[43minitval\u001B[49m\u001B[38;5;241;43m=\u001B[39;49m\u001B[43minitval\u001B[49m\u001B[43m,\u001B[49m\n\u001B[1;32m    519\u001B[0m \u001B[43m\u001B[49m\u001B[43m)\u001B[49m\n\u001B[1;32m    521\u001B[0m \u001B[38;5;66;03m# add in pretty-printing support\u001B[39;00m\n\u001B[1;32m    522\u001B[0m rv_out\u001B[38;5;241m.\u001B[39mstr_repr \u001B[38;5;241m=\u001B[39m types\u001B[38;5;241m.\u001B[39mMethodType(str_for_dist, rv_out)\n",
      "File \u001B[0;32m/opt/conda/lib/python3.10/site-packages/pymc/model/core.py:1298\u001B[0m, in \u001B[0;36mModel.register_rv\u001B[0;34m(self, rv_var, name, observed, total_size, dims, default_transform, transform, initval)\u001B[0m\n\u001B[1;32m   1296\u001B[0m     \u001B[38;5;28mself\u001B[39m\u001B[38;5;241m.\u001B[39mfree_RVs\u001B[38;5;241m.\u001B[39mappend(rv_var)\n\u001B[1;32m   1297\u001B[0m     \u001B[38;5;28mself\u001B[39m\u001B[38;5;241m.\u001B[39mcreate_value_var(rv_var, transform\u001B[38;5;241m=\u001B[39mtransform, default_transform\u001B[38;5;241m=\u001B[39mdefault_transform)\n\u001B[0;32m-> 1298\u001B[0m     \u001B[38;5;28;43mself\u001B[39;49m\u001B[38;5;241;43m.\u001B[39;49m\u001B[43madd_named_variable\u001B[49m\u001B[43m(\u001B[49m\u001B[43mrv_var\u001B[49m\u001B[43m,\u001B[49m\u001B[43m \u001B[49m\u001B[43mdims\u001B[49m\u001B[43m)\u001B[49m\n\u001B[1;32m   1299\u001B[0m     \u001B[38;5;28mself\u001B[39m\u001B[38;5;241m.\u001B[39mset_initval(rv_var, initval)\n\u001B[1;32m   1300\u001B[0m \u001B[38;5;28;01melse\u001B[39;00m:\n",
      "File \u001B[0;32m/opt/conda/lib/python3.10/site-packages/pymc/model/core.py:1518\u001B[0m, in \u001B[0;36mModel.add_named_variable\u001B[0;34m(self, var, dims)\u001B[0m\n\u001B[1;32m   1516\u001B[0m     \u001B[38;5;28;01mraise\u001B[39;00m \u001B[38;5;167;01mValueError\u001B[39;00m(\u001B[38;5;124m\"\u001B[39m\u001B[38;5;124mVariable is unnamed.\u001B[39m\u001B[38;5;124m\"\u001B[39m)\n\u001B[1;32m   1517\u001B[0m \u001B[38;5;28;01mif\u001B[39;00m \u001B[38;5;28mself\u001B[39m\u001B[38;5;241m.\u001B[39mnamed_vars\u001B[38;5;241m.\u001B[39mtree_contains(var\u001B[38;5;241m.\u001B[39mname):\n\u001B[0;32m-> 1518\u001B[0m     \u001B[38;5;28;01mraise\u001B[39;00m \u001B[38;5;167;01mValueError\u001B[39;00m(\u001B[38;5;124mf\u001B[39m\u001B[38;5;124m\"\u001B[39m\u001B[38;5;124mVariable name \u001B[39m\u001B[38;5;132;01m{\u001B[39;00mvar\u001B[38;5;241m.\u001B[39mname\u001B[38;5;132;01m}\u001B[39;00m\u001B[38;5;124m already exists.\u001B[39m\u001B[38;5;124m\"\u001B[39m)\n\u001B[1;32m   1520\u001B[0m \u001B[38;5;28;01mif\u001B[39;00m dims \u001B[38;5;129;01mis\u001B[39;00m \u001B[38;5;129;01mnot\u001B[39;00m \u001B[38;5;28;01mNone\u001B[39;00m:\n\u001B[1;32m   1521\u001B[0m     \u001B[38;5;28;01mif\u001B[39;00m \u001B[38;5;28misinstance\u001B[39m(dims, \u001B[38;5;28mstr\u001B[39m):\n",
      "\u001B[0;31mValueError\u001B[0m: Variable name y_pred already exists."
     ],
     "ename": "ValueError",
     "evalue": "Variable name y_pred already exists.",
     "output_type": "error"
    }
   ]
  }
 ]
}
