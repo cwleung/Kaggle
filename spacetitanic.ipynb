{
 "cells": [
  {
   "cell_type": "code",
   "execution_count": 1,
   "id": "01ff93ec",
   "metadata": {
    "_cell_guid": "b1076dfc-b9ad-4769-8c92-a6c4dae69d19",
    "_uuid": "8f2839f25d086af736a60e9eeb907d3b93b6e0e5",
    "execution": {
     "iopub.execute_input": "2022-04-19T09:43:11.156261Z",
     "iopub.status.busy": "2022-04-19T09:43:11.155256Z",
     "iopub.status.idle": "2022-04-19T09:43:11.169455Z",
     "shell.execute_reply": "2022-04-19T09:43:11.168517Z"
    },
    "papermill": {
     "duration": 0.022885,
     "end_time": "2022-04-19T09:43:11.171735",
     "exception": false,
     "start_time": "2022-04-19T09:43:11.148850",
     "status": "completed"
    },
    "tags": []
   },
   "outputs": [
    {
     "name": "stdout",
     "output_type": "stream",
     "text": [
      "/kaggle/input/spaceship-titanic/sample_submission.csv\n",
      "/kaggle/input/spaceship-titanic/train.csv\n",
      "/kaggle/input/spaceship-titanic/test.csv\n"
     ]
    }
   ],
   "source": [
    "# This Python 3 environment comes with many helpful analytics libraries installed\n",
    "# It is defined by the kaggle/python Docker image: https://github.com/kaggle/docker-python\n",
    "# For example, here's several helpful packages to load\n",
    "\n",
    "import numpy as np # linear algebra\n",
    "import pandas as pd # data processing, CSV file I/O (e.g. pd.read_csv)\n",
    "\n",
    "# Input data files are available in the read-only \"../input/\" directory\n",
    "# For example, running this (by clicking run or pressing Shift+Enter) will list all files under the input directory\n",
    "\n",
    "import os\n",
    "for dirname, _, filenames in os.walk('/kaggle/input'):\n",
    "    for filename in filenames:\n",
    "        print(os.path.join(dirname, filename))\n",
    "\n",
    "# You can write up to 20GB to the current directory (/kaggle/working/) that gets preserved as output when you create a version using \"Save & Run All\" \n",
    "# You can also write temporary files to /kaggle/temp/, but they won't be saved outside of the current session"
   ]
  },
  {
   "cell_type": "code",
   "execution_count": 2,
   "id": "1e7debbb",
   "metadata": {
    "execution": {
     "iopub.execute_input": "2022-04-19T09:43:11.182060Z",
     "iopub.status.busy": "2022-04-19T09:43:11.181803Z",
     "iopub.status.idle": "2022-04-19T09:43:12.626082Z",
     "shell.execute_reply": "2022-04-19T09:43:12.624660Z"
    },
    "papermill": {
     "duration": 1.453371,
     "end_time": "2022-04-19T09:43:12.630011",
     "exception": false,
     "start_time": "2022-04-19T09:43:11.176640",
     "status": "completed"
    },
    "tags": []
   },
   "outputs": [
    {
     "name": "stdout",
     "output_type": "stream",
     "text": [
      "<class 'pandas.core.frame.DataFrame'>\n",
      "RangeIndex: 8693 entries, 0 to 8692\n",
      "Data columns (total 14 columns):\n",
      " #   Column        Non-Null Count  Dtype  \n",
      "---  ------        --------------  -----  \n",
      " 0   PassengerId   8693 non-null   object \n",
      " 1   HomePlanet    8492 non-null   object \n",
      " 2   CryoSleep     8476 non-null   object \n",
      " 3   Cabin         8494 non-null   object \n",
      " 4   Destination   8511 non-null   object \n",
      " 5   Age           8514 non-null   float64\n",
      " 6   VIP           8490 non-null   object \n",
      " 7   RoomService   8512 non-null   float64\n",
      " 8   FoodCourt     8510 non-null   float64\n",
      " 9   ShoppingMall  8485 non-null   float64\n",
      " 10  Spa           8510 non-null   float64\n",
      " 11  VRDeck        8505 non-null   float64\n",
      " 12  Name          8493 non-null   object \n",
      " 13  Transported   8693 non-null   bool   \n",
      "dtypes: bool(1), float64(6), object(7)\n",
      "memory usage: 891.5+ KB\n",
      "None\n",
      "0.5270439414734432\n"
     ]
    }
   ],
   "source": [
    "import pandas as pd\n",
    "from sklearn.linear_model import LogisticRegression\n",
    "from sklearn.metrics import log_loss\n",
    "from sklearn.model_selection import train_test_split\n",
    "\n",
    "data = pd.read_csv('../input/spaceship-titanic/train.csv')\n",
    "test_data = pd.read_csv('../input/spaceship-titanic/test.csv')\n",
    "\n",
    "print(data.info())\n",
    "features = ['Age', 'RoomService', 'FoodCourt', 'ShoppingMall', 'Spa','VRDeck']\n",
    "\n",
    "y = data['Transported']\n",
    "X = data.copy().loc[:, features]\n",
    "# X_train.drop('Transported', axis=1, inplace=True)\n",
    "X = X.fillna(0)\n",
    "\n",
    "X_train, X_test, y_train, y_test = train_test_split(X, y, test_size=0.3, random_state=0)\n",
    "\n",
    "l = LogisticRegression()\n",
    "l.fit(X_train, y_train)\n",
    "y_pred = l.predict_proba(X_test)\n",
    "print(log_loss(y_test, y_pred))\n",
    "\n",
    "pred = l.predict(test_data.copy().fillna(0).loc[:, features])\n",
    "submit = pd.DataFrame({'PassengerId': test_data['PassengerId'], 'Transported':pred}).set_index('PassengerId')\n",
    "submit['Transported'].replace([0,1], [False, True], inplace=True)\n",
    "submit.to_csv('./submission.csv')"
   ]
  }
 ],
 "metadata": {
  "kernelspec": {
   "display_name": "Python 3",
   "language": "python",
   "name": "python3"
  },
  "language_info": {
   "codemirror_mode": {
    "name": "ipython",
    "version": 3
   },
   "file_extension": ".py",
   "mimetype": "text/x-python",
   "name": "python",
   "nbconvert_exporter": "python",
   "pygments_lexer": "ipython3",
   "version": "3.7.12"
  },
  "papermill": {
   "default_parameters": {},
   "duration": 12.071134,
   "end_time": "2022-04-19T09:43:13.361537",
   "environment_variables": {},
   "exception": null,
   "input_path": "__notebook__.ipynb",
   "output_path": "__notebook__.ipynb",
   "parameters": {},
   "start_time": "2022-04-19T09:43:01.290403",
   "version": "2.3.4"
  }
 },
 "nbformat": 4,
 "nbformat_minor": 5
}
